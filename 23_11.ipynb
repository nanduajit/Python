{
  "nbformat": 4,
  "nbformat_minor": 0,
  "metadata": {
    "colab": {
      "provenance": [],
      "authorship_tag": "ABX9TyMbxgxuw4Wpx+ZQTXx1XLNk",
      "include_colab_link": true
    },
    "kernelspec": {
      "name": "python3",
      "display_name": "Python 3"
    },
    "language_info": {
      "name": "python"
    }
  },
  "cells": [
    {
      "cell_type": "markdown",
      "metadata": {
        "id": "view-in-github",
        "colab_type": "text"
      },
      "source": [
        "<a href=\"https://colab.research.google.com/github/nanduajit/Python/blob/main/23_11.ipynb\" target=\"_parent\"><img src=\"https://colab.research.google.com/assets/colab-badge.svg\" alt=\"Open In Colab\"/></a>"
      ]
    },
    {
      "cell_type": "code",
      "execution_count": 1,
      "metadata": {
        "colab": {
          "base_uri": "https://localhost:8080/"
        },
        "id": "izGNQ2ZMNylC",
        "outputId": "19e7cd38-108b-4212-a770-b9141c511a8b"
      },
      "outputs": [
        {
          "output_type": "stream",
          "name": "stdout",
          "text": [
            "Fifa World Cup\n"
          ]
        }
      ],
      "source": [
        "#function with no arguments \n",
        "def fun_name():\n",
        "  print(\"Fifa World Cup\")\n",
        "fun_name()"
      ]
    },
    {
      "cell_type": "code",
      "source": [
        "\n",
        "#function with three arguments \n",
        "def name(x,y,):\n",
        "    print(x,y,)\n",
        "name(\"Nandu\",'Ajith')"
      ],
      "metadata": {
        "colab": {
          "base_uri": "https://localhost:8080/"
        },
        "id": "ZeQV0SA4N2yK",
        "outputId": "d8d5f3fb-9537-4616-eab6-57d08dbbc23a"
      },
      "execution_count": 3,
      "outputs": [
        {
          "output_type": "stream",
          "name": "stdout",
          "text": [
            "Nandu Ajith\n"
          ]
        }
      ]
    },
    {
      "cell_type": "code",
      "source": [
        "#default argument country as “Mexico” and display it.\n",
        "def nandu(country=\"Mexico\"):\n",
        "  print(\"I support \"+country)\n",
        "nandu(\"Argentina\")\n",
        "nandu(\"Brazil\")\n",
        "nandu()"
      ],
      "metadata": {
        "colab": {
          "base_uri": "https://localhost:8080/"
        },
        "id": "WBteCKXcOEn-",
        "outputId": "8d1ffa52-ccdf-4cb4-d8d9-4a6aeba921b8"
      },
      "execution_count": 4,
      "outputs": [
        {
          "output_type": "stream",
          "name": "stdout",
          "text": [
            "I support Argentina\n",
            "I support Brazil\n",
            "I support Mexico\n"
          ]
        }
      ]
    },
    {
      "cell_type": "code",
      "source": [
        "\n",
        "def fun_names(*x):\n",
        "  print('the second favorite football player: ',x[1])\n",
        "\n",
        "fun_names('Messi','Ronaldo','Neymar')"
      ],
      "metadata": {
        "colab": {
          "base_uri": "https://localhost:8080/"
        },
        "id": "s2e1zCaBOLLG",
        "outputId": "3d9b84e1-666a-442c-c21d-ed73817256d7"
      },
      "execution_count": 5,
      "outputs": [
        {
          "output_type": "stream",
          "name": "stdout",
          "text": [
            "the second favorite football player:  Ronaldo\n"
          ]
        }
      ]
    },
    {
      "cell_type": "code",
      "source": [
        "\n",
        "def nandu(x):\n",
        "  for i in x:\n",
        "    print(i)\n",
        "\n",
        "K=[\"Argentina\",\"Brazil\",\"Portugal\"]\n",
        "nandu(K)"
      ],
      "metadata": {
        "colab": {
          "base_uri": "https://localhost:8080/"
        },
        "id": "xOKXzns-OOol",
        "outputId": "b8f5d180-4697-46f5-95da-e61a38727db1"
      },
      "execution_count": 6,
      "outputs": [
        {
          "output_type": "stream",
          "name": "stdout",
          "text": [
            "Argentina\n",
            "Brazil\n",
            "Portugal\n"
          ]
        }
      ]
    },
    {
      "cell_type": "code",
      "source": [
        "\n",
        "def fact(n):\n",
        "  if n<=1:\n",
        "    return n\n",
        "  else:\n",
        "      return(fact(n-1) * n)\n",
        "print(fact(10))"
      ],
      "metadata": {
        "colab": {
          "base_uri": "https://localhost:8080/"
        },
        "id": "6nueI03uOT3t",
        "outputId": "30bfee3f-192c-4a7c-8cce-1ed611a274fc"
      },
      "execution_count": 7,
      "outputs": [
        {
          "output_type": "stream",
          "name": "stdout",
          "text": [
            "3628800\n"
          ]
        }
      ]
    },
    {
      "cell_type": "code",
      "source": [],
      "metadata": {
        "id": "4nSaFdcSOWKt"
      },
      "execution_count": null,
      "outputs": []
    }
  ]
}